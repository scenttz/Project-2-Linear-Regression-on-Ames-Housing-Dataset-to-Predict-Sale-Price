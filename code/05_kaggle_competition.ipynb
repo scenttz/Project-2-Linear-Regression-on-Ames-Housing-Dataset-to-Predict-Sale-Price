{
 "cells": [
  {
   "cell_type": "markdown",
   "id": "f7ca44e4",
   "metadata": {},
   "source": [
    "# Part 5. Kaggle Competition Submission Code"
   ]
  },
  {
   "cell_type": "markdown",
   "id": "b70aa3a1",
   "metadata": {},
   "source": [
    "## Importing libraries and setting global variables"
   ]
  },
  {
   "cell_type": "code",
   "execution_count": 1,
   "id": "4a432be9",
   "metadata": {},
   "outputs": [],
   "source": [
    "# Import usual library\n",
    "import pandas as pd\n",
    "import numpy as np\n",
    "import matplotlib.pyplot as plt\n",
    "import seaborn as sns\n",
    "\n",
    "# Modeling library\n",
    "from sklearn.linear_model import LinearRegression\n",
    "from sklearn import metrics\n",
    "from sklearn.model_selection import train_test_split, cross_val_score\n",
    "\n",
    "# Load model library\n",
    "import pickle"
   ]
  },
  {
   "cell_type": "markdown",
   "id": "d7e019c1",
   "metadata": {},
   "source": [
    "## Importing datasets"
   ]
  },
  {
   "cell_type": "code",
   "execution_count": 2,
   "id": "4a1f3014",
   "metadata": {},
   "outputs": [],
   "source": [
    "X = pd.read_csv('../datasets/test_cleaned.csv')"
   ]
  },
  {
   "cell_type": "code",
   "execution_count": 3,
   "id": "6719a05e",
   "metadata": {
    "scrolled": true
   },
   "outputs": [
    {
     "data": {
      "text/html": [
       "<div>\n",
       "<style scoped>\n",
       "    .dataframe tbody tr th:only-of-type {\n",
       "        vertical-align: middle;\n",
       "    }\n",
       "\n",
       "    .dataframe tbody tr th {\n",
       "        vertical-align: top;\n",
       "    }\n",
       "\n",
       "    .dataframe thead th {\n",
       "        text-align: right;\n",
       "    }\n",
       "</style>\n",
       "<table border=\"1\" class=\"dataframe\">\n",
       "  <thead>\n",
       "    <tr style=\"text-align: right;\">\n",
       "      <th></th>\n",
       "      <th>ms_zoning</th>\n",
       "      <th>lot_frontage</th>\n",
       "      <th>street</th>\n",
       "      <th>lot_shape</th>\n",
       "      <th>lot_contour</th>\n",
       "      <th>utilities</th>\n",
       "      <th>lot_config</th>\n",
       "      <th>lot_slope</th>\n",
       "      <th>neighborhood</th>\n",
       "      <th>condition_1</th>\n",
       "      <th>...</th>\n",
       "      <th>sale_type</th>\n",
       "      <th>sale_condition</th>\n",
       "      <th>has_2nd_floor_sf</th>\n",
       "      <th>total_sf</th>\n",
       "      <th>has_basement_sf</th>\n",
       "      <th>total_bath</th>\n",
       "      <th>has_open_porch</th>\n",
       "      <th>has_fireplace</th>\n",
       "      <th>has_wood_deck</th>\n",
       "      <th>log_lot_area</th>\n",
       "    </tr>\n",
       "  </thead>\n",
       "  <tbody>\n",
       "    <tr>\n",
       "      <th>0</th>\n",
       "      <td>Res</td>\n",
       "      <td>60.0</td>\n",
       "      <td>1</td>\n",
       "      <td>1</td>\n",
       "      <td>1</td>\n",
       "      <td>AllPub</td>\n",
       "      <td>Inside</td>\n",
       "      <td>1</td>\n",
       "      <td>CollgCr</td>\n",
       "      <td>N</td>\n",
       "      <td>...</td>\n",
       "      <td>W</td>\n",
       "      <td>N</td>\n",
       "      <td>0</td>\n",
       "      <td>1980.0</td>\n",
       "      <td>1</td>\n",
       "      <td>2.0</td>\n",
       "      <td>0</td>\n",
       "      <td>0</td>\n",
       "      <td>0</td>\n",
       "      <td>8.995909</td>\n",
       "    </tr>\n",
       "    <tr>\n",
       "      <th>1</th>\n",
       "      <td>Res</td>\n",
       "      <td>60.0</td>\n",
       "      <td>1</td>\n",
       "      <td>0</td>\n",
       "      <td>0</td>\n",
       "      <td>AllPub</td>\n",
       "      <td>Corner</td>\n",
       "      <td>1</td>\n",
       "      <td>BrkSide</td>\n",
       "      <td>N</td>\n",
       "      <td>...</td>\n",
       "      <td>W</td>\n",
       "      <td>N</td>\n",
       "      <td>1</td>\n",
       "      <td>3176.0</td>\n",
       "      <td>1</td>\n",
       "      <td>1.5</td>\n",
       "      <td>0</td>\n",
       "      <td>1</td>\n",
       "      <td>0</td>\n",
       "      <td>8.960981</td>\n",
       "    </tr>\n",
       "    <tr>\n",
       "      <th>2</th>\n",
       "      <td>Res</td>\n",
       "      <td>40.0</td>\n",
       "      <td>1</td>\n",
       "      <td>0</td>\n",
       "      <td>1</td>\n",
       "      <td>AllPub</td>\n",
       "      <td>Inside</td>\n",
       "      <td>1</td>\n",
       "      <td>NridgHt</td>\n",
       "      <td>N</td>\n",
       "      <td>...</td>\n",
       "      <td>N</td>\n",
       "      <td>P</td>\n",
       "      <td>0</td>\n",
       "      <td>2736.0</td>\n",
       "      <td>1</td>\n",
       "      <td>2.0</td>\n",
       "      <td>1</td>\n",
       "      <td>1</td>\n",
       "      <td>1</td>\n",
       "      <td>8.823501</td>\n",
       "    </tr>\n",
       "    <tr>\n",
       "      <th>3</th>\n",
       "      <td>Res</td>\n",
       "      <td>44.0</td>\n",
       "      <td>1</td>\n",
       "      <td>0</td>\n",
       "      <td>1</td>\n",
       "      <td>AllPub</td>\n",
       "      <td>Inside</td>\n",
       "      <td>1</td>\n",
       "      <td>NridgHt</td>\n",
       "      <td>N</td>\n",
       "      <td>...</td>\n",
       "      <td>N</td>\n",
       "      <td>P</td>\n",
       "      <td>0</td>\n",
       "      <td>2716.0</td>\n",
       "      <td>1</td>\n",
       "      <td>3.0</td>\n",
       "      <td>1</td>\n",
       "      <td>1</td>\n",
       "      <td>1</td>\n",
       "      <td>8.759512</td>\n",
       "    </tr>\n",
       "    <tr>\n",
       "      <th>4</th>\n",
       "      <td>Res</td>\n",
       "      <td>70.0</td>\n",
       "      <td>1</td>\n",
       "      <td>0</td>\n",
       "      <td>1</td>\n",
       "      <td>AllPub</td>\n",
       "      <td>Inside</td>\n",
       "      <td>1</td>\n",
       "      <td>SawyerW</td>\n",
       "      <td>N</td>\n",
       "      <td>...</td>\n",
       "      <td>W</td>\n",
       "      <td>N</td>\n",
       "      <td>1</td>\n",
       "      <td>2778.0</td>\n",
       "      <td>1</td>\n",
       "      <td>2.5</td>\n",
       "      <td>1</td>\n",
       "      <td>0</td>\n",
       "      <td>1</td>\n",
       "      <td>9.024493</td>\n",
       "    </tr>\n",
       "  </tbody>\n",
       "</table>\n",
       "<p>5 rows × 58 columns</p>\n",
       "</div>"
      ],
      "text/plain": [
       "  ms_zoning  lot_frontage  street  lot_shape  lot_contour utilities  \\\n",
       "0       Res          60.0       1          1            1    AllPub   \n",
       "1       Res          60.0       1          0            0    AllPub   \n",
       "2       Res          40.0       1          0            1    AllPub   \n",
       "3       Res          44.0       1          0            1    AllPub   \n",
       "4       Res          70.0       1          0            1    AllPub   \n",
       "\n",
       "  lot_config  lot_slope neighborhood condition_1  ... sale_type  \\\n",
       "0     Inside          1      CollgCr           N  ...         W   \n",
       "1     Corner          1      BrkSide           N  ...         W   \n",
       "2     Inside          1      NridgHt           N  ...         N   \n",
       "3     Inside          1      NridgHt           N  ...         N   \n",
       "4     Inside          1      SawyerW           N  ...         W   \n",
       "\n",
       "  sale_condition has_2nd_floor_sf  total_sf  has_basement_sf  total_bath  \\\n",
       "0              N                0    1980.0                1         2.0   \n",
       "1              N                1    3176.0                1         1.5   \n",
       "2              P                0    2736.0                1         2.0   \n",
       "3              P                0    2716.0                1         3.0   \n",
       "4              N                1    2778.0                1         2.5   \n",
       "\n",
       "  has_open_porch has_fireplace has_wood_deck log_lot_area  \n",
       "0              0             0             0     8.995909  \n",
       "1              0             1             0     8.960981  \n",
       "2              1             1             1     8.823501  \n",
       "3              1             1             1     8.759512  \n",
       "4              1             0             1     9.024493  \n",
       "\n",
       "[5 rows x 58 columns]"
      ]
     },
     "execution_count": 3,
     "metadata": {},
     "output_type": "execute_result"
    }
   ],
   "source": [
    "# View head\n",
    "X.head(5)"
   ]
  },
  {
   "cell_type": "markdown",
   "id": "fc3f3d4f",
   "metadata": {},
   "source": [
    "## Loading the model"
   ]
  },
  {
   "cell_type": "code",
   "execution_count": 4,
   "id": "3471be40",
   "metadata": {},
   "outputs": [],
   "source": [
    "filename = '../model/all_num_10_cat.sav'\n",
    "model = pickle.load(open(filename, 'rb'))"
   ]
  },
  {
   "cell_type": "markdown",
   "id": "68df885c",
   "metadata": {},
   "source": [
    "### Predicting y"
   ]
  },
  {
   "cell_type": "code",
   "execution_count": 5,
   "id": "62bc4250",
   "metadata": {},
   "outputs": [],
   "source": [
    "# Select all quality related categorical columns\n",
    "cat_cols = ['external_quality','basement_quality','heating_quality','kitchen_quality','fireplace_quality',\n",
    "           'garage_quality','garage_fin','building_type','house_style','sale_type','sale_condition',\n",
    "            'condition_1','masonry_type','roof_style']"
   ]
  },
  {
   "cell_type": "code",
   "execution_count": 6,
   "id": "636d28d2",
   "metadata": {},
   "outputs": [],
   "source": [
    "# Selecting all numerical columns\n",
    "num_cols = ['overall_quality','total_sf','garage_cars','total_bath','year_built',\n",
    "            'has_fireplace','total_rooms_above_ground','has_open_porch','masonry_area','log_lot_area',\n",
    "            'lot_frontage','has_wood_deck','central_air','has_basement_sf','bedroom_above_ground','functional',\n",
    "            'street','has_2nd_floor_sf','month_sold','year_sold','lot_contour','lot_slope','overall_condition',\n",
    "            'kitchen_above_ground','lot_shape']"
   ]
  },
  {
   "cell_type": "code",
   "execution_count": 7,
   "id": "f79bdccd",
   "metadata": {},
   "outputs": [],
   "source": [
    "# Combine columns\n",
    "cols = num_cols + cat_cols"
   ]
  },
  {
   "cell_type": "code",
   "execution_count": 8,
   "id": "fec2f248",
   "metadata": {},
   "outputs": [],
   "source": [
    "# Selecting X and y for model training\n",
    "X = X[cols]"
   ]
  },
  {
   "cell_type": "code",
   "execution_count": 9,
   "id": "d215a391",
   "metadata": {},
   "outputs": [],
   "source": [
    "# Get dummies\n",
    "X = pd.get_dummies(columns=list(X.select_dtypes(include='object').columns), data = X, drop_first=True)"
   ]
  },
  {
   "cell_type": "code",
   "execution_count": 10,
   "id": "de0bf4d3",
   "metadata": {
    "scrolled": false
   },
   "outputs": [],
   "source": [
    "# predict\n",
    "y_pred = model.predict(X)"
   ]
  },
  {
   "cell_type": "code",
   "execution_count": 11,
   "id": "a428f2da",
   "metadata": {},
   "outputs": [],
   "source": [
    "# transform back\n",
    "y_pred_exp = np.exp(y_pred)"
   ]
  },
  {
   "cell_type": "code",
   "execution_count": 12,
   "id": "6c669a2a",
   "metadata": {},
   "outputs": [],
   "source": [
    "# get Order column\n",
    "test = pd.read_csv('../datasets/test.csv')"
   ]
  },
  {
   "cell_type": "code",
   "execution_count": 13,
   "id": "159acdde",
   "metadata": {},
   "outputs": [],
   "source": [
    "# generate dataframe\n",
    "pred_df = pd.DataFrame({'Order':test['Order'], 'SalePrice':y_pred_exp})"
   ]
  },
  {
   "cell_type": "code",
   "execution_count": 14,
   "id": "64292b76",
   "metadata": {},
   "outputs": [],
   "source": [
    "# write to submission.csv\n",
    "pred_df.to_csv('../datasets/submission.csv', index=False)"
   ]
  },
  {
   "cell_type": "code",
   "execution_count": 15,
   "id": "c377eaf7",
   "metadata": {},
   "outputs": [
    {
     "data": {
      "text/plain": [
       "Index(['overall_quality', 'total_sf', 'garage_cars', 'total_bath',\n",
       "       'year_built', 'has_fireplace', 'total_rooms_above_ground',\n",
       "       'has_open_porch', 'masonry_area', 'log_lot_area', 'lot_frontage',\n",
       "       'has_wood_deck', 'central_air', 'has_basement_sf',\n",
       "       'bedroom_above_ground', 'functional', 'street', 'has_2nd_floor_sf',\n",
       "       'month_sold', 'year_sold', 'lot_contour', 'lot_slope',\n",
       "       'overall_condition', 'kitchen_above_ground', 'lot_shape',\n",
       "       'external_quality_Fa', 'external_quality_Gd', 'external_quality_TA',\n",
       "       'basement_quality_E', 'basement_quality_G', 'basement_quality_O',\n",
       "       'heating_quality_Fa', 'heating_quality_Gd', 'heating_quality_TA',\n",
       "       'kitchen_quality_Gd', 'kitchen_quality_Ta', 'fireplace_quality_Fa',\n",
       "       'fireplace_quality_Gd', 'fireplace_quality_None',\n",
       "       'fireplace_quality_Po', 'fireplace_quality_TA', 'garage_quality_G',\n",
       "       'garage_quality_O', 'garage_fin_None', 'garage_fin_RFn',\n",
       "       'garage_fin_Unf', 'building_type_2F', 'building_type_D',\n",
       "       'building_type_T', 'house_style_2', 'house_style_S', 'sale_type_CON',\n",
       "       'sale_type_N', 'sale_type_W', 'sale_condition_Other',\n",
       "       'sale_condition_P', 'condition_1_F', 'condition_1_N', 'condition_1_P',\n",
       "       'condition_1_R', 'masonry_type_N', 'masonry_type_S', 'roof_style_H',\n",
       "       'roof_style_O'],\n",
       "      dtype='object')"
      ]
     },
     "execution_count": 15,
     "metadata": {},
     "output_type": "execute_result"
    }
   ],
   "source": [
    "# display X columns for kaggle report\n",
    "X.columns"
   ]
  },
  {
   "cell_type": "markdown",
   "id": "55d0f8ff",
   "metadata": {},
   "source": [
    "----"
   ]
  }
 ],
 "metadata": {
  "kernelspec": {
   "display_name": "Python 3 (ipykernel)",
   "language": "python",
   "name": "python3"
  },
  "language_info": {
   "codemirror_mode": {
    "name": "ipython",
    "version": 3
   },
   "file_extension": ".py",
   "mimetype": "text/x-python",
   "name": "python",
   "nbconvert_exporter": "python",
   "pygments_lexer": "ipython3",
   "version": "3.9.12"
  }
 },
 "nbformat": 4,
 "nbformat_minor": 5
}
