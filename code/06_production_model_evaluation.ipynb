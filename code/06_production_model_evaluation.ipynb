{
 "cells": [
  {
   "cell_type": "markdown",
   "id": "0b7887c7",
   "metadata": {},
   "source": [
    "# Part 6. Production Model Evaluation"
   ]
  },
  {
   "cell_type": "markdown",
   "id": "b70aa3a1",
   "metadata": {},
   "source": [
    "## Importing libraries and setting global variables"
   ]
  },
  {
   "cell_type": "code",
   "execution_count": 1,
   "id": "4a432be9",
   "metadata": {},
   "outputs": [],
   "source": [
    "# Import usual library\n",
    "import pandas as pd\n",
    "import numpy as np\n",
    "import matplotlib.pyplot as plt\n",
    "import seaborn as sns\n",
    "\n",
    "# Modeling library\n",
    "from sklearn.linear_model import LinearRegression\n",
    "from sklearn import metrics\n",
    "from sklearn.model_selection import train_test_split, cross_val_score\n",
    "\n",
    "# Library to save the model\n",
    "import pickle"
   ]
  },
  {
   "cell_type": "markdown",
   "id": "d7e019c1",
   "metadata": {},
   "source": [
    "## Importing datasets"
   ]
  },
  {
   "cell_type": "code",
   "execution_count": 2,
   "id": "e0569f20",
   "metadata": {},
   "outputs": [],
   "source": [
    "def read_train_test(status='train'):\n",
    "    # Function to select dataset to read\n",
    "    if status == 'train':\n",
    "        df = pd.read_csv('../datasets/train_cleaned.csv')\n",
    "    elif status == 'test':\n",
    "        df = pd.read_csv('../datasets/test_cleaned.csv')\n",
    "    else:\n",
    "        print(f\"Select the correct dataset\")\n",
    "    return df"
   ]
  },
  {
   "cell_type": "code",
   "execution_count": 3,
   "id": "4a1f3014",
   "metadata": {},
   "outputs": [],
   "source": [
    "# Select 'train' to read train.csv\n",
    "# Select 'test' to read test.csv\n",
    "df = read_train_test('train')"
   ]
  },
  {
   "cell_type": "code",
   "execution_count": 4,
   "id": "6719a05e",
   "metadata": {
    "scrolled": false
   },
   "outputs": [
    {
     "data": {
      "text/html": [
       "<div>\n",
       "<style scoped>\n",
       "    .dataframe tbody tr th:only-of-type {\n",
       "        vertical-align: middle;\n",
       "    }\n",
       "\n",
       "    .dataframe tbody tr th {\n",
       "        vertical-align: top;\n",
       "    }\n",
       "\n",
       "    .dataframe thead th {\n",
       "        text-align: right;\n",
       "    }\n",
       "</style>\n",
       "<table border=\"1\" class=\"dataframe\">\n",
       "  <thead>\n",
       "    <tr style=\"text-align: right;\">\n",
       "      <th></th>\n",
       "      <th>ms_zoning</th>\n",
       "      <th>lot_frontage</th>\n",
       "      <th>street</th>\n",
       "      <th>lot_shape</th>\n",
       "      <th>lot_contour</th>\n",
       "      <th>utilities</th>\n",
       "      <th>lot_config</th>\n",
       "      <th>lot_slope</th>\n",
       "      <th>neighborhood</th>\n",
       "      <th>condition_1</th>\n",
       "      <th>...</th>\n",
       "      <th>sale_price</th>\n",
       "      <th>has_2nd_floor_sf</th>\n",
       "      <th>total_sf</th>\n",
       "      <th>has_basement_sf</th>\n",
       "      <th>total_bath</th>\n",
       "      <th>has_open_porch</th>\n",
       "      <th>has_fireplace</th>\n",
       "      <th>has_wood_deck</th>\n",
       "      <th>log_sale_price</th>\n",
       "      <th>log_lot_area</th>\n",
       "    </tr>\n",
       "  </thead>\n",
       "  <tbody>\n",
       "    <tr>\n",
       "      <th>0</th>\n",
       "      <td>Res</td>\n",
       "      <td>80.0</td>\n",
       "      <td>1</td>\n",
       "      <td>1</td>\n",
       "      <td>1</td>\n",
       "      <td>AllPub</td>\n",
       "      <td>Corner</td>\n",
       "      <td>1</td>\n",
       "      <td>SawyerW</td>\n",
       "      <td>N</td>\n",
       "      <td>...</td>\n",
       "      <td>159000</td>\n",
       "      <td>0</td>\n",
       "      <td>2436.0</td>\n",
       "      <td>1</td>\n",
       "      <td>1.5</td>\n",
       "      <td>1</td>\n",
       "      <td>0</td>\n",
       "      <td>0</td>\n",
       "      <td>11.976659</td>\n",
       "      <td>9.170039</td>\n",
       "    </tr>\n",
       "    <tr>\n",
       "      <th>1</th>\n",
       "      <td>Res</td>\n",
       "      <td>90.0</td>\n",
       "      <td>1</td>\n",
       "      <td>0</td>\n",
       "      <td>1</td>\n",
       "      <td>AllPub</td>\n",
       "      <td>CulDSac</td>\n",
       "      <td>1</td>\n",
       "      <td>SawyerW</td>\n",
       "      <td>N</td>\n",
       "      <td>...</td>\n",
       "      <td>271900</td>\n",
       "      <td>0</td>\n",
       "      <td>4354.0</td>\n",
       "      <td>1</td>\n",
       "      <td>2.0</td>\n",
       "      <td>1</td>\n",
       "      <td>1</td>\n",
       "      <td>1</td>\n",
       "      <td>12.513190</td>\n",
       "      <td>9.594514</td>\n",
       "    </tr>\n",
       "    <tr>\n",
       "      <th>2</th>\n",
       "      <td>Res</td>\n",
       "      <td>60.0</td>\n",
       "      <td>1</td>\n",
       "      <td>0</td>\n",
       "      <td>1</td>\n",
       "      <td>NoSeWa</td>\n",
       "      <td>CulDSac</td>\n",
       "      <td>1</td>\n",
       "      <td>Timber</td>\n",
       "      <td>N</td>\n",
       "      <td>...</td>\n",
       "      <td>137500</td>\n",
       "      <td>0</td>\n",
       "      <td>2163.0</td>\n",
       "      <td>1</td>\n",
       "      <td>1.5</td>\n",
       "      <td>1</td>\n",
       "      <td>1</td>\n",
       "      <td>0</td>\n",
       "      <td>11.831379</td>\n",
       "      <td>9.573246</td>\n",
       "    </tr>\n",
       "    <tr>\n",
       "      <th>3</th>\n",
       "      <td>Res</td>\n",
       "      <td>48.0</td>\n",
       "      <td>1</td>\n",
       "      <td>1</td>\n",
       "      <td>1</td>\n",
       "      <td>AllPub</td>\n",
       "      <td>Inside</td>\n",
       "      <td>1</td>\n",
       "      <td>NridgHt</td>\n",
       "      <td>N</td>\n",
       "      <td>...</td>\n",
       "      <td>248500</td>\n",
       "      <td>0</td>\n",
       "      <td>2907.0</td>\n",
       "      <td>1</td>\n",
       "      <td>2.0</td>\n",
       "      <td>1</td>\n",
       "      <td>1</td>\n",
       "      <td>1</td>\n",
       "      <td>12.423198</td>\n",
       "      <td>8.775240</td>\n",
       "    </tr>\n",
       "    <tr>\n",
       "      <th>4</th>\n",
       "      <td>Res</td>\n",
       "      <td>61.0</td>\n",
       "      <td>1</td>\n",
       "      <td>0</td>\n",
       "      <td>1</td>\n",
       "      <td>AllPub</td>\n",
       "      <td>Inside</td>\n",
       "      <td>1</td>\n",
       "      <td>Gilbert</td>\n",
       "      <td>R</td>\n",
       "      <td>...</td>\n",
       "      <td>167000</td>\n",
       "      <td>1</td>\n",
       "      <td>1758.0</td>\n",
       "      <td>1</td>\n",
       "      <td>2.5</td>\n",
       "      <td>0</td>\n",
       "      <td>0</td>\n",
       "      <td>0</td>\n",
       "      <td>12.025749</td>\n",
       "      <td>9.183380</td>\n",
       "    </tr>\n",
       "  </tbody>\n",
       "</table>\n",
       "<p>5 rows × 60 columns</p>\n",
       "</div>"
      ],
      "text/plain": [
       "  ms_zoning  lot_frontage  street  lot_shape  lot_contour utilities  \\\n",
       "0       Res          80.0       1          1            1    AllPub   \n",
       "1       Res          90.0       1          0            1    AllPub   \n",
       "2       Res          60.0       1          0            1    NoSeWa   \n",
       "3       Res          48.0       1          1            1    AllPub   \n",
       "4       Res          61.0       1          0            1    AllPub   \n",
       "\n",
       "  lot_config  lot_slope neighborhood condition_1  ... sale_price  \\\n",
       "0     Corner          1      SawyerW           N  ...     159000   \n",
       "1    CulDSac          1      SawyerW           N  ...     271900   \n",
       "2    CulDSac          1       Timber           N  ...     137500   \n",
       "3     Inside          1      NridgHt           N  ...     248500   \n",
       "4     Inside          1      Gilbert           R  ...     167000   \n",
       "\n",
       "  has_2nd_floor_sf total_sf  has_basement_sf  total_bath  has_open_porch  \\\n",
       "0                0   2436.0                1         1.5               1   \n",
       "1                0   4354.0                1         2.0               1   \n",
       "2                0   2163.0                1         1.5               1   \n",
       "3                0   2907.0                1         2.0               1   \n",
       "4                1   1758.0                1         2.5               0   \n",
       "\n",
       "  has_fireplace has_wood_deck log_sale_price log_lot_area  \n",
       "0             0             0      11.976659     9.170039  \n",
       "1             1             1      12.513190     9.594514  \n",
       "2             1             0      11.831379     9.573246  \n",
       "3             1             1      12.423198     8.775240  \n",
       "4             0             0      12.025749     9.183380  \n",
       "\n",
       "[5 rows x 60 columns]"
      ]
     },
     "execution_count": 4,
     "metadata": {},
     "output_type": "execute_result"
    }
   ],
   "source": [
    "# View head\n",
    "df.head(5)"
   ]
  },
  {
   "cell_type": "markdown",
   "id": "22b6c16b",
   "metadata": {},
   "source": [
    "# Run model to check numerical model"
   ]
  },
  {
   "cell_type": "markdown",
   "id": "17e925d0",
   "metadata": {},
   "source": [
    "#### Create function to run linear regression"
   ]
  },
  {
   "cell_type": "code",
   "execution_count": 5,
   "id": "49a42276",
   "metadata": {},
   "outputs": [],
   "source": [
    "def linreg_log(X,y,t_s=0.2,log=False):\n",
    "    # model to train data - with selection of training with ln-y or y\n",
    "    \n",
    "    # train test split and instantiate\n",
    "    X_train, X_test, y_train, y_test = train_test_split(X,y, test_size=t_s,random_state=42)\n",
    "    lr = LinearRegression()\n",
    "    \n",
    "    if log == True:\n",
    "        # flow to train with ln-y\n",
    "        \n",
    "        # transform y to ln\n",
    "        y_train_log = np.log(y_train)\n",
    "        y_test_log = np.log(y_test)\n",
    "        \n",
    "        # fit model to ln(y)\n",
    "        lr.fit(X_train,y_train_log)\n",
    "        \n",
    "        # predict train and test\n",
    "        y_train_pred_log = lr.predict(X_train)\n",
    "        y_test_pred_log = lr.predict(X_test)\n",
    "        \n",
    "        # exponential transform ln(y) back to y\n",
    "        y_train_preds = np.exp(y_train_pred_log)\n",
    "        y_test_preds = np.exp(y_test_pred_log)\n",
    "        \n",
    "        # print model name\n",
    "        print()\n",
    "        print(\" Production Model \".center(30, \"=\"))\n",
    "        \n",
    "        # train test R^2 scores\n",
    "        train_r2 = lr.score(X_train,y_train_log)\n",
    "        test_r2 = lr.score(X_test,y_test_log)\n",
    "\n",
    "        # cross validation score\n",
    "        mean_cross_val = cross_val_score(lr, X_train, y_train_log)\n",
    "        \n",
    "    else:\n",
    "        \n",
    "        # fit model to y\n",
    "        lr.fit(X_train,y_train)\n",
    "        \n",
    "        # predict train and test y\n",
    "        y_train_preds = lr.predict(X_train)\n",
    "        y_test_preds = lr.predict(X_test)\n",
    "        \n",
    "        # print model name\n",
    "        print()\n",
    "        print(\" Production Model \".center(30, \"=\"))\n",
    "        \n",
    "        # train test score\n",
    "        train_r2 = lr.score(X_train,y_train)\n",
    "        test_r2 = lr.score(X_test,y_test)\n",
    "\n",
    "        # cross validation score\n",
    "        mean_cross_val = cross_val_score(lr, X_train, y_train)\n",
    "\n",
    "    # metrics (comparing y_preds with y)\n",
    "    rmse_train = round(metrics.mean_squared_error(y_train,y_train_preds,squared=False),2)\n",
    "    rmse_test = round(metrics.mean_squared_error(y_test,y_test_preds,squared=False),2)\n",
    "    \n",
    "    # print model scores\n",
    "    print()\n",
    "    print(f\"train r2: {train_r2.round(4)}\")\n",
    "    print(f\"test_r2: {test_r2.round(4)}\")\n",
    "    print(f\"mean cross val: {mean_cross_val.round(4)}\")\n",
    "    print(f\"train rmse: {rmse_train}\")\n",
    "    print(f\"test rmse: {rmse_test}\")\n",
    "    \n",
    "    # create plots of predictions vs true values - to help visualize model performance\n",
    "    fig, axes = plt.subplots(1, 2, figsize=(12,6))\n",
    "    \n",
    "    # correlation calculation\n",
    "    cor = np.corrcoef(y_test,y_test_preds)\n",
    "    \n",
    "    # scatter plot (left) of y_test vs y_test_preds\n",
    "    plot1 = sns.scatterplot(ax=axes[0],x=y_test,y=y_test_preds)\n",
    "    sns.lineplot(ax=axes[0],x=y_test,y=y_test)\n",
    "    plot1.set_xlabel('y_test')\n",
    "    plot1.set_ylabel('y_test_preds')\n",
    "    plot1.set_title(f\"y_test vs y_test_preds (corr: {cor[0][1].round(4)})\")\n",
    "    \n",
    "    # histogram (right) of y_test vs y_test_preds\n",
    "    plot2 = sns.histplot(ax=axes[1],x=y_test,color='grey',alpha=0.5)\n",
    "    plot2 = sns.histplot(ax=axes[1],x=y_test_preds)\n",
    "    plot2.set_xlabel('log_sale_price');\n",
    "    \n",
    "    return y_test,y_test_preds"
   ]
  },
  {
   "cell_type": "markdown",
   "id": "f86c143f",
   "metadata": {},
   "source": [
    "#### Selected Production Model - Tuning 4: Numerical + Categorical (Quality Related Columns)"
   ]
  },
  {
   "cell_type": "code",
   "execution_count": 6,
   "id": "1c02c00d",
   "metadata": {},
   "outputs": [],
   "source": [
    "# Select all quality related categorical columns\n",
    "cat_cols = ['external_quality','basement_quality','heating_quality','kitchen_quality','fireplace_quality',\n",
    "           'garage_quality']"
   ]
  },
  {
   "cell_type": "code",
   "execution_count": 7,
   "id": "1e6ba460",
   "metadata": {},
   "outputs": [],
   "source": [
    "# Selecting all numerical columns\n",
    "num_cols = list(df.corr()['log_sale_price'].sort_values(ascending=False).index)"
   ]
  },
  {
   "cell_type": "code",
   "execution_count": 8,
   "id": "9426d837",
   "metadata": {},
   "outputs": [],
   "source": [
    "# Combine columns\n",
    "cols = num_cols + cat_cols"
   ]
  },
  {
   "cell_type": "code",
   "execution_count": 9,
   "id": "9d9962dc",
   "metadata": {},
   "outputs": [],
   "source": [
    "# Selecting X and y for model training\n",
    "X = df[cols].drop(columns=['sale_price','log_sale_price'])\n",
    "y = df['sale_price']"
   ]
  },
  {
   "cell_type": "code",
   "execution_count": 10,
   "id": "46c6367e",
   "metadata": {},
   "outputs": [],
   "source": [
    "# Get dummies for categorical columns\n",
    "X = pd.get_dummies(columns=list(X.select_dtypes(include='object').columns), data = X, drop_first=True)"
   ]
  },
  {
   "cell_type": "code",
   "execution_count": 11,
   "id": "fa20ba27",
   "metadata": {},
   "outputs": [
    {
     "data": {
      "text/plain": [
       "Index(['overall_quality', 'total_sf', 'garage_cars', 'total_bath',\n",
       "       'year_built', 'has_fireplace', 'total_rooms_above_ground',\n",
       "       'has_open_porch', 'masonry_area', 'log_lot_area', 'lot_frontage',\n",
       "       'has_wood_deck', 'central_air', 'has_basement_sf',\n",
       "       'bedroom_above_ground', 'functional', 'street', 'has_2nd_floor_sf',\n",
       "       'month_sold', 'year_sold', 'lot_contour', 'lot_slope',\n",
       "       'overall_condition', 'kitchen_above_ground', 'lot_shape',\n",
       "       'external_quality_Fa', 'external_quality_Gd', 'external_quality_TA',\n",
       "       'basement_quality_E', 'basement_quality_G', 'basement_quality_O',\n",
       "       'heating_quality_Fa', 'heating_quality_Gd', 'heating_quality_TA',\n",
       "       'kitchen_quality_Gd', 'kitchen_quality_Ta', 'fireplace_quality_Fa',\n",
       "       'fireplace_quality_Gd', 'fireplace_quality_None',\n",
       "       'fireplace_quality_Po', 'fireplace_quality_TA', 'garage_quality_G',\n",
       "       'garage_quality_O'],\n",
       "      dtype='object')"
      ]
     },
     "execution_count": 11,
     "metadata": {},
     "output_type": "execute_result"
    }
   ],
   "source": [
    "X.columns"
   ]
  },
  {
   "cell_type": "code",
   "execution_count": 12,
   "id": "7a281966",
   "metadata": {
    "scrolled": false
   },
   "outputs": [
    {
     "name": "stdout",
     "output_type": "stream",
     "text": [
      "\n",
      "====== Production Model ======\n",
      "\n",
      "train r2: 0.9226\n",
      "test_r2: 0.9167\n",
      "mean cross val: [0.9299 0.8952 0.9033 0.925  0.9095]\n",
      "train rmse: 19704.42\n",
      "test rmse: 21084.5\n"
     ]
    },
    {
     "data": {
      "image/png": "[encoded data removed]",
      "text/plain": [
       "<Figure size 864x432 with 2 Axes>"
      ]
     },
     "metadata": {
      "needs_background": "light"
     },
     "output_type": "display_data"
    }
   ],
   "source": [
    "# Testing the model\n",
    "y_test,y_test_preds = linreg_log(X,y,0.3,True)"
   ]
  },
  {
   "cell_type": "markdown",
   "id": "3fbae985",
   "metadata": {},
   "source": [
    "## Evaluation"
   ]
  },
  {
   "cell_type": "markdown",
   "id": "35ca6c5c",
   "metadata": {},
   "source": [
    "Upon iterating many different models from selecting only numerical columns to select 10-12 categorical columns. This is our optimal production suitable model for the following reasons.\n",
    "\n",
    "__1. Numerical Columns:__\n",
    "- This model is a simplified version numerical columns\n",
    "- Keeping all cleaned numerical featurs perform better than selecting only a few correlated features\n",
    "- This is because fitting the model calculates the best coefficients to make use of all our features\n",
    "- Note that is only works if the dataset has been cleaned to a certain degree\n",
    "\n",
    "__2. Categorical Columns:__\n",
    "- This model selects only generic categorical columns (i.e. quality related columns)\n",
    "- This avoids overfitting in the future since they're columns that all houses should have\n",
    "- These selected categorical columns has acceptable distribution of values\n",
    "- Allowing us to train the model without overfitting\n",
    "\n",
    "__3. Metrics:__\n",
    "- Comparing the R^2 values of both the training and testing datasets shows slight difference\n",
    "- Cross validation also shows extremely small differences in R2 for all 5 sets\n",
    "- Overfitting is unlikely in this case\n",
    "- The RMSE of the train data is very low and the RMSE of the test data is within acceptable range\n",
    "- Meaning this model performs well while being unlikely to overfit in the future"
   ]
  }
 ],
 "metadata": {
  "kernelspec": {
   "display_name": "Python 3 (ipykernel)",
   "language": "python",
   "name": "python3"
  },
  "language_info": {
   "codemirror_mode": {
    "name": "ipython",
    "version": 3
   },
   "file_extension": ".py",
   "mimetype": "text/x-python",
   "name": "python",
   "nbconvert_exporter": "python",
   "pygments_lexer": "ipython3",
   "version": "3.9.12"
  }
 },
 "nbformat": 4,
 "nbformat_minor": 5
}
